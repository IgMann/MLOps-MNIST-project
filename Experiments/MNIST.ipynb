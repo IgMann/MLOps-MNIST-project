{
 "cells": [
  {
   "cell_type": "markdown",
   "id": "47911d73",
   "metadata": {},
   "source": [
    "## Libraries importing"
   ]
  },
  {
   "cell_type": "code",
   "execution_count": 1,
   "id": "449c9cbe",
   "metadata": {},
   "outputs": [
    {
     "name": "stderr",
     "output_type": "stream",
     "text": [
      "2023-08-09 15:37:44.424061: I tensorflow/tsl/cuda/cudart_stub.cc:28] Could not find cuda drivers on your machine, GPU will not be used.\n",
      "2023-08-09 15:37:44.838235: I tensorflow/tsl/cuda/cudart_stub.cc:28] Could not find cuda drivers on your machine, GPU will not be used.\n",
      "2023-08-09 15:37:44.839877: I tensorflow/core/platform/cpu_feature_guard.cc:182] This TensorFlow binary is optimized to use available CPU instructions in performance-critical operations.\n",
      "To enable the following instructions: AVX2 FMA, in other operations, rebuild TensorFlow with the appropriate compiler flags.\n",
      "2023-08-09 15:37:46.489691: W tensorflow/compiler/tf2tensorrt/utils/py_utils.cc:38] TF-TRT Warning: Could not find TensorRT\n"
     ]
    }
   ],
   "source": [
    "# Imorting basic libraries\n",
    "import os\n",
    "from datetime import datetime\n",
    "\n",
    "# Importing basic ml libraries\n",
    "import pandas as pd\n",
    "import numpy as np \n",
    "import matplotlib as plt\n",
    "\n",
    "# Importing dataset \n",
    "from keras.datasets import mnist\n",
    "\n",
    "# Importing visualization tools\n",
    "from matplotlib import pyplot\n",
    "\n",
    "# Importing model \n",
    "import tensorflow as tf\n",
    "from tensorflow.keras.models import Sequential\n",
    "from tensorflow.keras.layers import Dense, Flatten\n",
    "from tensorflow.keras.utils import to_categorical\n",
    "\n",
    "# Importing hyperparameters optimization libraries\n",
    "from hyperopt import fmin, tpe, hp"
   ]
  },
  {
   "cell_type": "markdown",
   "id": "817d679e",
   "metadata": {},
   "source": [
    "## Constants"
   ]
  },
  {
   "cell_type": "code",
   "execution_count": 2,
   "id": "7267795e",
   "metadata": {},
   "outputs": [],
   "source": [
    "EPOCHS = 50\n",
    "BATCH_SIZE = 32 \n",
    "MODEL_NAME = \"best_model\"\n",
    "FORMAT = \"keras\"\n",
    "PATH = \"./models\"  "
   ]
  },
  {
   "cell_type": "markdown",
   "id": "27d1f73f",
   "metadata": {},
   "source": [
    "## Loading training and test data"
   ]
  },
  {
   "cell_type": "code",
   "execution_count": 3,
   "id": "29cf3739",
   "metadata": {},
   "outputs": [
    {
     "name": "stdout",
     "output_type": "stream",
     "text": [
      "x_train set shape: (60000, 28, 28)\n",
      "y_train set shape: (60000,)\n",
      "x_test set shape: (10000, 28, 28)\n",
      "y_test set shape: (10000,)\n"
     ]
    }
   ],
   "source": [
    "(x_train, y_train), (x_test, y_test) = mnist.load_data()\n",
    "  \n",
    "print(f\"x_train set shape: {x_train.shape}\")\n",
    "print(f\"y_train set shape: {y_train.shape}\")\n",
    "print(f\"x_test set shape: {x_test.shape}\")\n",
    "print(f\"y_test set shape: {y_test.shape}\")"
   ]
  },
  {
   "cell_type": "markdown",
   "id": "aedfe457",
   "metadata": {},
   "source": [
    "## Dataset visualization"
   ]
  },
  {
   "cell_type": "code",
   "execution_count": 4,
   "id": "81a495db",
   "metadata": {},
   "outputs": [
    {
     "name": "stdout",
     "output_type": "stream",
     "text": [
      "Number 5\n"
     ]
    },
    {
     "data": {
      "image/png": "[encoded data removed]",
      "text/plain": [
       "<Figure size 640x480 with 1 Axes>"
      ]
     },
     "metadata": {},
     "output_type": "display_data"
    },
    {
     "name": "stdout",
     "output_type": "stream",
     "text": [
      "----------------------------------------------------------------------------------------------------\n",
      "Number 0\n"
     ]
    },
    {
     "data": {
      "image/png": "[encoded data removed]",
      "text/plain": [
       "<Figure size 640x480 with 1 Axes>"
      ]
     },
     "metadata": {},
     "output_type": "display_data"
    },
    {
     "name": "stdout",
     "output_type": "stream",
     "text": [
      "----------------------------------------------------------------------------------------------------\n",
      "Number 4\n"
     ]
    },
    {
     "data": {
      "image/png": "[encoded data removed]",
      "text/plain": [
       "<Figure size 640x480 with 1 Axes>"
      ]
     },
     "metadata": {},
     "output_type": "display_data"
    },
    {
     "name": "stdout",
     "output_type": "stream",
     "text": [
      "----------------------------------------------------------------------------------------------------\n"
     ]
    }
   ],
   "source": [
    "for i in range(3):  \n",
    "    print(f\"Number {y_train[i]}\")\n",
    "    pyplot.subplot(330 + 1 + i)\n",
    "    pyplot.imshow(x_train[i], cmap=pyplot.get_cmap('gray'))\n",
    "    pyplot.show()\n",
    "    \n",
    "    print(100*'-')"
   ]
  },
  {
   "cell_type": "markdown",
   "id": "de145d14",
   "metadata": {},
   "source": [
    "## Normalizing the pixel values to be in the range [0, 1]"
   ]
  },
  {
   "cell_type": "code",
   "execution_count": 5,
   "id": "f6956f81",
   "metadata": {},
   "outputs": [],
   "source": [
    "x_train = x_train.astype(\"float32\") / 255.0\n",
    "x_test = x_test.astype(\"float32\") / 255.0"
   ]
  },
  {
   "cell_type": "markdown",
   "id": "85797562",
   "metadata": {},
   "source": [
    "## One-hot encoding the target labels"
   ]
  },
  {
   "cell_type": "code",
   "execution_count": 6,
   "id": "a60a9e00",
   "metadata": {},
   "outputs": [],
   "source": [
    "y_train = to_categorical(y_train, 10)\n",
    "y_test = to_categorical(y_test, 10)"
   ]
  },
  {
   "cell_type": "markdown",
   "id": "a75b69c1",
   "metadata": {},
   "source": [
    "## Defining the function which build and compile the model"
   ]
  },
  {
   "cell_type": "code",
   "execution_count": 7,
   "id": "fe6cdd60",
   "metadata": {},
   "outputs": [],
   "source": [
    "def build_model(parameters):\n",
    "    model = Sequential()\n",
    "    model.add(Flatten(input_shape=(28, 28)))\n",
    "    \n",
    "    for units in parameters[\"units\"]:\n",
    "        model.add(Dense(units, activation=\"relu\"))\n",
    "\n",
    "    model.add(Dense(10, activation=\"softmax\"))\n",
    "\n",
    "    optimizer = parameters[\"optimizer\"]\n",
    "    model.compile(optimizer=optimizer(learning_rate=parameters[\"learning_rate\"]),\n",
    "                  loss=\"categorical_crossentropy\",\n",
    "                  metrics=[\"accuracy\"])\n",
    "                  \n",
    "    return model"
   ]
  },
  {
   "cell_type": "markdown",
   "id": "6c7e1574",
   "metadata": {},
   "source": [
    "## Defining the objective function to minimize\n",
    "\n",
    "We use negative accuracy since we want to maximize accuracy"
   ]
  },
  {
   "cell_type": "code",
   "execution_count": 8,
   "id": "c93b7f87",
   "metadata": {},
   "outputs": [],
   "source": [
    "best_accuracy = 0.0\n",
    "best_model = None\n",
    "\n",
    "def objective(parameters):\n",
    "    model = build_model(parameters)\n",
    "    history = model.fit(x_train, y_train, epochs=5, batch_size=32, validation_split=0.1, verbose=0)\n",
    "    val_loss, val_accuracy = model.evaluate(x_test, y_test, verbose=0)\n",
    "    \n",
    "    global best_accuracy, best_model\n",
    "    if val_accuracy > best_accuracy:\n",
    "        best_accuracy = val_accuracy\n",
    "        best_model = model  # Save the best model\n",
    "\n",
    "    return -val_accuracy"
   ]
  },
  {
   "cell_type": "markdown",
   "id": "fe6e83f5",
   "metadata": {},
   "source": [
    "## Defining the hyperparameter search space"
   ]
  },
  {
   "cell_type": "code",
   "execution_count": 9,
   "id": "811d2837",
   "metadata": {},
   "outputs": [],
   "source": [
    "space = {\n",
    "    \"num_hidden_layers\": hp.choice(\"num_hidden_layers\", [1, 2, 3]),\n",
    "    \"units\": hp.choice(\"units\", [[64], [128], [256]]),\n",
    "    \"optimizer\": hp.choice(\"optimizer\", [tf.keras.optimizers.SGD, tf.keras.optimizers.Adam]),\n",
    "    \"learning_rate\": hp.uniform(\"learning_rate\", 0.0001, 0.01)\n",
    "}"
   ]
  },
  {
   "cell_type": "markdown",
   "id": "50fd0eba",
   "metadata": {},
   "source": [
    "## Performing hyperparameter optimization\n",
    "\n",
    "Algorithm of choice is Tree-structured Parzen Estimators (TPE)"
   ]
  },
  {
   "cell_type": "code",
   "execution_count": 10,
   "id": "48e534d1",
   "metadata": {},
   "outputs": [
    {
     "name": "stdout",
     "output_type": "stream",
     "text": [
      "  0%|          | 0/10 [00:00<?, ?trial/s, best loss=?]"
     ]
    },
    {
     "name": "stderr",
     "output_type": "stream",
     "text": [
      "2023-08-09 15:37:51.556203: W tensorflow/tsl/framework/cpu_allocator_impl.cc:83] Allocation of 169344000 exceeds 10% of free system memory.\n",
      "2023-08-09 15:38:31.267164: W tensorflow/tsl/framework/cpu_allocator_impl.cc:83] Allocation of 31360000 exceeds 10% of free system memory.\n"
     ]
    },
    {
     "name": "stdout",
     "output_type": "stream",
     "text": [
      " 10%|█         | 1/10 [00:40<06:08, 40.95s/trial, best loss: -0.9711999893188477]"
     ]
    },
    {
     "name": "stderr",
     "output_type": "stream",
     "text": [
      "2023-08-09 15:38:32.542656: W tensorflow/tsl/framework/cpu_allocator_impl.cc:83] Allocation of 169344000 exceeds 10% of free system memory.\n",
      "2023-08-09 15:38:59.447611: W tensorflow/tsl/framework/cpu_allocator_impl.cc:83] Allocation of 31360000 exceeds 10% of free system memory.\n"
     ]
    },
    {
     "name": "stdout",
     "output_type": "stream",
     "text": [
      " 20%|██        | 2/10 [01:08<04:26, 33.35s/trial, best loss: -0.9711999893188477]"
     ]
    },
    {
     "name": "stderr",
     "output_type": "stream",
     "text": [
      "2023-08-09 15:39:00.517000: W tensorflow/tsl/framework/cpu_allocator_impl.cc:83] Allocation of 169344000 exceeds 10% of free system memory.\n"
     ]
    },
    {
     "name": "stdout",
     "output_type": "stream",
     "text": [
      "100%|██████████| 10/10 [05:25<00:00, 32.57s/trial, best loss: -0.9749000072479248]\n",
      "Best Hyperparameters:\n",
      "Number of Hidden Layers: 2\n",
      "Units in Hidden Layers: [128]\n",
      "Optimizer: Adam\n",
      "Learning Rate: 0.0013069455936135118\n"
     ]
    }
   ],
   "source": [
    "best_parameters = fmin(fn=objective, space=space, algo=tpe.suggest, max_evals=10)\n",
    "\n",
    "best_num_hidden_layers = [1, 2, 3][best_parameters[\"num_hidden_layers\"]]\n",
    "best_units = [[64], [128], [256]][best_parameters[\"units\"]]\n",
    "best_optimizer = [tf.keras.optimizers.SGD, tf.keras.optimizers.Adam][best_parameters[\"optimizer\"]]\n",
    "best_learning_rate = best_parameters[\"learning_rate\"]\n",
    "\n",
    "print(\"Best Hyperparameters:\")\n",
    "print(f\"Number of Hidden Layers: {best_num_hidden_layers}\")\n",
    "print(f\"Units in Hidden Layers: {best_units}\")\n",
    "print(f\"Optimizer: {best_optimizer.__name__}\")\n",
    "print(f\"Learning Rate: {best_learning_rate}\")"
   ]
  },
  {
   "cell_type": "markdown",
   "id": "e7851f36",
   "metadata": {},
   "source": [
    "## Training the best model with more epochs"
   ]
  },
  {
   "cell_type": "code",
   "execution_count": 11,
   "id": "f2fb64fd",
   "metadata": {},
   "outputs": [
    {
     "name": "stdout",
     "output_type": "stream",
     "text": [
      "Epoch 1/50\n",
      "1688/1688 [==============================] - 8s 4ms/step - loss: 0.0333 - accuracy: 0.9892 - val_loss: 0.0758 - val_accuracy: 0.9793\n",
      "Epoch 2/50\n",
      "1688/1688 [==============================] - 7s 4ms/step - loss: 0.0274 - accuracy: 0.9912 - val_loss: 0.0898 - val_accuracy: 0.9770\n",
      "Epoch 3/50\n",
      "1688/1688 [==============================] - 8s 5ms/step - loss: 0.0220 - accuracy: 0.9927 - val_loss: 0.0822 - val_accuracy: 0.9797\n",
      "Epoch 4/50\n",
      "1688/1688 [==============================] - 8s 5ms/step - loss: 0.0186 - accuracy: 0.9941 - val_loss: 0.0950 - val_accuracy: 0.9765\n",
      "Epoch 5/50\n",
      "1688/1688 [==============================] - 7s 4ms/step - loss: 0.0154 - accuracy: 0.9950 - val_loss: 0.0957 - val_accuracy: 0.9778\n",
      "Epoch 6/50\n",
      "1688/1688 [==============================] - 7s 4ms/step - loss: 0.0140 - accuracy: 0.9952 - val_loss: 0.1205 - val_accuracy: 0.9730\n",
      "Epoch 7/50\n",
      "1688/1688 [==============================] - 7s 4ms/step - loss: 0.0115 - accuracy: 0.9964 - val_loss: 0.0975 - val_accuracy: 0.9803\n",
      "Epoch 8/50\n",
      "1688/1688 [==============================] - 7s 4ms/step - loss: 0.0121 - accuracy: 0.9961 - val_loss: 0.1051 - val_accuracy: 0.9780\n",
      "Epoch 9/50\n",
      "1688/1688 [==============================] - 7s 4ms/step - loss: 0.0089 - accuracy: 0.9971 - val_loss: 0.0991 - val_accuracy: 0.9805\n",
      "Epoch 10/50\n",
      "1688/1688 [==============================] - 7s 4ms/step - loss: 0.0087 - accuracy: 0.9972 - val_loss: 0.1017 - val_accuracy: 0.9818\n",
      "Epoch 11/50\n",
      "1688/1688 [==============================] - 7s 4ms/step - loss: 0.0080 - accuracy: 0.9974 - val_loss: 0.1060 - val_accuracy: 0.9810\n",
      "Epoch 12/50\n",
      "1688/1688 [==============================] - 7s 4ms/step - loss: 0.0084 - accuracy: 0.9971 - val_loss: 0.1180 - val_accuracy: 0.9782\n",
      "Epoch 13/50\n",
      "1688/1688 [==============================] - 8s 4ms/step - loss: 0.0077 - accuracy: 0.9972 - val_loss: 0.1153 - val_accuracy: 0.9797\n",
      "Epoch 14/50\n",
      "1688/1688 [==============================] - 7s 4ms/step - loss: 0.0073 - accuracy: 0.9974 - val_loss: 0.1153 - val_accuracy: 0.9787\n",
      "Epoch 15/50\n",
      "1688/1688 [==============================] - 7s 4ms/step - loss: 0.0056 - accuracy: 0.9983 - val_loss: 0.1083 - val_accuracy: 0.9813\n",
      "Epoch 16/50\n",
      "1688/1688 [==============================] - 7s 4ms/step - loss: 0.0059 - accuracy: 0.9982 - val_loss: 0.1252 - val_accuracy: 0.9787\n",
      "Epoch 17/50\n",
      "1688/1688 [==============================] - 7s 4ms/step - loss: 0.0061 - accuracy: 0.9979 - val_loss: 0.1244 - val_accuracy: 0.9785\n",
      "Epoch 18/50\n",
      "1688/1688 [==============================] - 7s 4ms/step - loss: 0.0075 - accuracy: 0.9974 - val_loss: 0.1395 - val_accuracy: 0.9795\n",
      "Epoch 19/50\n",
      "1688/1688 [==============================] - 7s 4ms/step - loss: 0.0053 - accuracy: 0.9982 - val_loss: 0.1211 - val_accuracy: 0.9813\n",
      "Epoch 20/50\n",
      "1688/1688 [==============================] - 7s 4ms/step - loss: 0.0052 - accuracy: 0.9982 - val_loss: 0.1260 - val_accuracy: 0.9802\n",
      "Epoch 21/50\n",
      "1688/1688 [==============================] - 7s 4ms/step - loss: 0.0057 - accuracy: 0.9979 - val_loss: 0.1225 - val_accuracy: 0.9818\n",
      "Epoch 22/50\n",
      "1688/1688 [==============================] - 7s 4ms/step - loss: 0.0031 - accuracy: 0.9990 - val_loss: 0.1301 - val_accuracy: 0.9818\n",
      "Epoch 23/50\n",
      "1688/1688 [==============================] - 7s 4ms/step - loss: 0.0076 - accuracy: 0.9973 - val_loss: 0.1602 - val_accuracy: 0.9790\n",
      "Epoch 24/50\n",
      "1688/1688 [==============================] - 7s 4ms/step - loss: 0.0036 - accuracy: 0.9987 - val_loss: 0.1469 - val_accuracy: 0.9802\n",
      "Epoch 25/50\n",
      "1688/1688 [==============================] - 7s 4ms/step - loss: 0.0056 - accuracy: 0.9981 - val_loss: 0.1568 - val_accuracy: 0.9787\n",
      "Epoch 26/50\n",
      "1688/1688 [==============================] - 8s 5ms/step - loss: 0.0062 - accuracy: 0.9980 - val_loss: 0.1488 - val_accuracy: 0.9822\n",
      "Epoch 27/50\n",
      "1688/1688 [==============================] - 7s 4ms/step - loss: 0.0041 - accuracy: 0.9986 - val_loss: 0.1576 - val_accuracy: 0.9787\n",
      "Epoch 28/50\n",
      "1688/1688 [==============================] - 7s 4ms/step - loss: 0.0048 - accuracy: 0.9986 - val_loss: 0.1466 - val_accuracy: 0.9813\n",
      "Epoch 29/50\n",
      "1688/1688 [==============================] - 7s 4ms/step - loss: 0.0029 - accuracy: 0.9991 - val_loss: 0.2058 - val_accuracy: 0.9747\n",
      "Epoch 30/50\n",
      "1688/1688 [==============================] - 7s 4ms/step - loss: 0.0053 - accuracy: 0.9984 - val_loss: 0.1576 - val_accuracy: 0.9818\n",
      "Epoch 31/50\n",
      "1688/1688 [==============================] - 7s 4ms/step - loss: 0.0049 - accuracy: 0.9986 - val_loss: 0.1577 - val_accuracy: 0.9785\n",
      "Epoch 32/50\n",
      "1688/1688 [==============================] - 7s 4ms/step - loss: 0.0034 - accuracy: 0.9989 - val_loss: 0.1626 - val_accuracy: 0.9800\n",
      "Epoch 33/50\n",
      "1688/1688 [==============================] - 7s 4ms/step - loss: 0.0058 - accuracy: 0.9982 - val_loss: 0.1509 - val_accuracy: 0.9805\n",
      "Epoch 34/50\n",
      "1688/1688 [==============================] - 7s 4ms/step - loss: 0.0045 - accuracy: 0.9986 - val_loss: 0.1589 - val_accuracy: 0.9805\n",
      "Epoch 35/50\n",
      "1688/1688 [==============================] - 7s 4ms/step - loss: 0.0033 - accuracy: 0.9989 - val_loss: 0.1599 - val_accuracy: 0.9805\n",
      "Epoch 36/50\n",
      "1688/1688 [==============================] - 7s 4ms/step - loss: 0.0060 - accuracy: 0.9981 - val_loss: 0.1617 - val_accuracy: 0.9817\n",
      "Epoch 37/50\n",
      "1688/1688 [==============================] - 7s 4ms/step - loss: 0.0025 - accuracy: 0.9992 - val_loss: 0.1921 - val_accuracy: 0.9773\n",
      "Epoch 38/50\n",
      "1688/1688 [==============================] - 7s 4ms/step - loss: 0.0050 - accuracy: 0.9987 - val_loss: 0.1726 - val_accuracy: 0.9807\n",
      "Epoch 39/50\n",
      "1688/1688 [==============================] - 7s 4ms/step - loss: 0.0042 - accuracy: 0.9988 - val_loss: 0.1695 - val_accuracy: 0.9805\n",
      "Epoch 40/50\n",
      "1688/1688 [==============================] - 7s 4ms/step - loss: 0.0028 - accuracy: 0.9992 - val_loss: 0.1864 - val_accuracy: 0.9795\n",
      "Epoch 41/50\n",
      "1688/1688 [==============================] - 7s 4ms/step - loss: 0.0037 - accuracy: 0.9988 - val_loss: 0.1886 - val_accuracy: 0.9790\n",
      "Epoch 42/50\n",
      "1688/1688 [==============================] - 7s 4ms/step - loss: 0.0054 - accuracy: 0.9983 - val_loss: 0.1892 - val_accuracy: 0.9817\n",
      "Epoch 43/50\n",
      "1688/1688 [==============================] - 8s 4ms/step - loss: 0.0033 - accuracy: 0.9990 - val_loss: 0.1717 - val_accuracy: 0.9827\n",
      "Epoch 44/50\n",
      "1688/1688 [==============================] - 8s 4ms/step - loss: 0.0015 - accuracy: 0.9995 - val_loss: 0.2106 - val_accuracy: 0.9777\n",
      "Epoch 45/50\n",
      "1688/1688 [==============================] - 7s 4ms/step - loss: 0.0045 - accuracy: 0.9988 - val_loss: 0.1791 - val_accuracy: 0.9818\n",
      "Epoch 46/50\n",
      "1688/1688 [==============================] - 7s 4ms/step - loss: 0.0032 - accuracy: 0.9992 - val_loss: 0.1991 - val_accuracy: 0.9812\n",
      "Epoch 47/50\n",
      "1688/1688 [==============================] - 7s 4ms/step - loss: 0.0038 - accuracy: 0.9991 - val_loss: 0.1997 - val_accuracy: 0.9788\n",
      "Epoch 48/50\n",
      "1688/1688 [==============================] - 7s 4ms/step - loss: 0.0046 - accuracy: 0.9986 - val_loss: 0.2003 - val_accuracy: 0.9785\n",
      "Epoch 49/50\n",
      "1688/1688 [==============================] - 7s 4ms/step - loss: 0.0030 - accuracy: 0.9989 - val_loss: 0.2153 - val_accuracy: 0.9785\n",
      "Epoch 50/50\n",
      "1688/1688 [==============================] - 7s 4ms/step - loss: 0.0044 - accuracy: 0.9986 - val_loss: 0.1901 - val_accuracy: 0.9813\n"
     ]
    },
    {
     "data": {
      "text/plain": [
       "<keras.src.callbacks.History at 0x7fce4b04a3d0>"
      ]
     },
     "execution_count": 11,
     "metadata": {},
     "output_type": "execute_result"
    }
   ],
   "source": [
    "best_model.fit(x_train, y_train, epochs=EPOCHS, batch_size=BATCH_SIZE, validation_split=0.1)"
   ]
  },
  {
   "cell_type": "markdown",
   "id": "1ae03101",
   "metadata": {},
   "source": [
    "## Evaluating the best model on the test set"
   ]
  },
  {
   "cell_type": "code",
   "execution_count": 12,
   "id": "3b52b7e3",
   "metadata": {},
   "outputs": [
    {
     "name": "stdout",
     "output_type": "stream",
     "text": [
      "313/313 [==============================] - 1s 3ms/step - loss: 0.2072 - accuracy: 0.9788\n",
      "Test accuracy with best hyperparameters: 97.88%\n"
     ]
    }
   ],
   "source": [
    "loss, accuracy = best_model.evaluate(x_test, y_test)\n",
    "\n",
    "print(f\"Test accuracy with best hyperparameters: {accuracy * 100:.2f}%\")"
   ]
  },
  {
   "cell_type": "markdown",
   "id": "72e2e1ce",
   "metadata": {},
   "source": [
    "## Saving the best model"
   ]
  },
  {
   "cell_type": "code",
   "execution_count": 13,
   "id": "c12e935d",
   "metadata": {},
   "outputs": [],
   "source": [
    "if not os.path.exists(PATH):\n",
    "    os.makedirs(PATH)\n",
    "\n",
    "current_datetime = datetime.now().strftime(\"%Y-%m-%d-%H-%M-%S\")\n",
    "best_model.save(f\"{PATH}/{MODEL_NAME}_{current_datetime}.{FORMAT}\")"
   ]
  }
 ],
 "metadata": {
  "kernelspec": {
   "display_name": "Python 3 (ipykernel)",
   "language": "python",
   "name": "python3"
  },
  "language_info": {
   "codemirror_mode": {
    "name": "ipython",
    "version": 3
   },
   "file_extension": ".py",
   "mimetype": "text/x-python",
   "name": "python",
   "nbconvert_exporter": "python",
   "pygments_lexer": "ipython3",
   "version": "3.11.4"
  }
 },
 "nbformat": 4,
 "nbformat_minor": 5
}
